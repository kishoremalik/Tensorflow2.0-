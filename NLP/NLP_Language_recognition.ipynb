{
 "cells": [
  {
   "cell_type": "code",
   "execution_count": 1,
   "metadata": {},
   "outputs": [],
   "source": [
    "import tensorflow as tf\n",
    "import numpy as np\n",
    "import pandas as pd\n",
    "from sklearn import model_selection\n",
    "from sklearn.preprocessing import LabelEncoder\n",
    "from sklearn.model_selection import train_test_split\n",
    "from sklearn.metrics import confusion_matrix"
   ]
  },
  {
   "cell_type": "code",
   "execution_count": 2,
   "metadata": {},
   "outputs": [
    {
     "data": {
      "text/html": [
       "<div>\n",
       "<style scoped>\n",
       "    .dataframe tbody tr th:only-of-type {\n",
       "        vertical-align: middle;\n",
       "    }\n",
       "\n",
       "    .dataframe tbody tr th {\n",
       "        vertical-align: top;\n",
       "    }\n",
       "\n",
       "    .dataframe thead th {\n",
       "        text-align: right;\n",
       "    }\n",
       "</style>\n",
       "<table border=\"1\" class=\"dataframe\">\n",
       "  <thead>\n",
       "    <tr style=\"text-align: right;\">\n",
       "      <th></th>\n",
       "      <th>Unnamed: 0</th>\n",
       "      <th>sentence</th>\n",
       "      <th>language</th>\n",
       "    </tr>\n",
       "  </thead>\n",
       "  <tbody>\n",
       "    <tr>\n",
       "      <th>0</th>\n",
       "      <td>0</td>\n",
       "      <td>Jean Beauverie (Fontaines-sur-Saône, 18 febbra...</td>\n",
       "      <td>italian</td>\n",
       "    </tr>\n",
       "    <tr>\n",
       "      <th>1</th>\n",
       "      <td>1</td>\n",
       "      <td>Il pinguino saltarocce (Eudyptes chrysocome (F...</td>\n",
       "      <td>italian</td>\n",
       "    </tr>\n",
       "    <tr>\n",
       "      <th>2</th>\n",
       "      <td>2</td>\n",
       "      <td>Maison Ikkoku - Cara dolce Kyoko (めぞん一刻 Mezon ...</td>\n",
       "      <td>italian</td>\n",
       "    </tr>\n",
       "    <tr>\n",
       "      <th>3</th>\n",
       "      <td>3</td>\n",
       "      <td>La mia città è un singolo della cantante itali...</td>\n",
       "      <td>italian</td>\n",
       "    </tr>\n",
       "    <tr>\n",
       "      <th>4</th>\n",
       "      <td>4</td>\n",
       "      <td>L'Armata Rossa dei Lavoratori e dei Contadini ...</td>\n",
       "      <td>italian</td>\n",
       "    </tr>\n",
       "  </tbody>\n",
       "</table>\n",
       "</div>"
      ],
      "text/plain": [
       "   Unnamed: 0                                           sentence language\n",
       "0           0  Jean Beauverie (Fontaines-sur-Saône, 18 febbra...  italian\n",
       "1           1  Il pinguino saltarocce (Eudyptes chrysocome (F...  italian\n",
       "2           2  Maison Ikkoku - Cara dolce Kyoko (めぞん一刻 Mezon ...  italian\n",
       "3           3  La mia città è un singolo della cantante itali...  italian\n",
       "4           4  L'Armata Rossa dei Lavoratori e dei Contadini ...  italian"
      ]
     },
     "execution_count": 2,
     "metadata": {},
     "output_type": "execute_result"
    }
   ],
   "source": [
    "train_df = pd.read_csv(\"/home/kishore/Data/train_languages.csv\")\n",
    "train_df.head()"
   ]
  },
  {
   "cell_type": "code",
   "execution_count": 3,
   "metadata": {},
   "outputs": [],
   "source": [
    "def label_encoding(data):\n",
    "    try:\n",
    "        if data.empty!= True:\n",
    "            Y = data['language']\n",
    "            encoder = LabelEncoder()\n",
    "            encoder.fit(Y)\n",
    "            Y = encoder.transform(Y)\n",
    "            Y = tf.keras.utils.to_categorical(Y,num_classes=4)\n",
    "            return Y,encoder\n",
    "    except:\n",
    "        print(\"Label is empty\")\n",
    "\n",
    "        \n",
    "        \n",
    "def dataPreprocessing(train_df,max_features,maxlen):\n",
    "   \n",
    "    train_df['sentence'] = train_df[\"sentence\"].str.lower()\n",
    "    train_df['sentence_no_punctuation'] = train_df['sentence'].str.replace('[^\\w\\s]','')\n",
    "    train_df['sentence_no_punctuation'] = train_df[\"sentence_no_punctuation\"].fillna(\"fillna\")\n",
    "    tok = tf.keras.preprocessing.text.Tokenizer(num_words=max_features) #again tokenizer step\n",
    "    tok.fit_on_texts(list(train_df['sentence_no_punctuation'])) #fit to cleaned text\n",
    "    vocab_size = len(tok.word_index) + 1 \n",
    "    train_df = tok.texts_to_sequences(list(train_df['sentence_no_punctuation'])) #this is how we create sequences\n",
    "    train_df = tf.keras.preprocessing.sequence.pad_sequences(train_df, maxlen=maxlen) #let's execute pad step\n",
    "    return train_df,vocab_size\n",
    "def data_sampling(train_df,Y):\n",
    "    X_train, X_test, y_train, y_test = train_test_split(train_df, Y, test_size=0.1, random_state=42)\n",
    "    return X_train, X_test, y_train, y_test\n",
    "\n",
    "def model(vocab_size,maxlen):\n",
    "    embedding_dim = 50 \n",
    "    model = tf.keras.models.Sequential([\n",
    "    tf.keras.layers.Embedding(input_dim=vocab_size, #embedding input\n",
    "                           output_dim=embedding_dim,#embedding output\n",
    "                           input_length=maxlen), #maximum length of an input sequence\n",
    "    #tf.keras.layers.Flatten(),#flatten layer\n",
    "    #tf.keras.layers.LSTM(64,return_sequences=True),\n",
    "    tf.keras.layers.GRU(128, return_sequences=True),\n",
    "    tf.keras.layers.GRU(64),\n",
    "    tf.keras.layers.Dense(128,activation=tf.nn.relu),\n",
    "    #tf.keras.layers.Dropout(0.5),\n",
    "    tf.keras.layers.Dense(4, activation=tf.nn.softmax)])\n",
    "    \n",
    "    model.compile(optimizer='adam',\n",
    "              loss='categorical_crossentropy', #we recommend this loss function you\n",
    "              metrics=['accuracy'])\n",
    "    return model\n",
    "\n",
    "def training(model,X_train,y_train):\n",
    "    model.fit(np.array(X_train), np.array(y_train), epochs=10) #let's fit the model\n",
    "    return model\n",
    "\n",
    "def model_evaluation(model,X_test,y_test):\n",
    "    evl=model.evaluate(np.array(X_test), np.array(y_test))\n",
    "    return evl\n",
    "\n",
    "def confusion_matrix_test(model,X_test,y_test):\n",
    "    predictions = model.predict(X_test) #here we make predictions\n",
    "    cm = confusion_matrix(predictions.argmax(axis=1), y_test.argmax(axis=1))\n",
    "    print(\"confusion matix======================\")\n",
    "    print(cm)"
   ]
  },
  {
   "cell_type": "code",
   "execution_count": 4,
   "metadata": {},
   "outputs": [
    {
     "name": "stdout",
     "output_type": "stream",
     "text": [
      "Train on 3269 samples\n",
      "Epoch 1/10\n",
      "3269/3269 [==============================] - 42s 13ms/sample - loss: 0.4553 - accuracy: 0.8385\n",
      "Epoch 2/10\n",
      "3269/3269 [==============================] - 41s 13ms/sample - loss: 0.0163 - accuracy: 0.9960\n",
      "Epoch 3/10\n",
      "3269/3269 [==============================] - 41s 12ms/sample - loss: 0.0097 - accuracy: 0.9972\n",
      "Epoch 4/10\n",
      "3269/3269 [==============================] - 41s 12ms/sample - loss: 0.0082 - accuracy: 0.9972\n",
      "Epoch 5/10\n",
      "3269/3269 [==============================] - 39s 12ms/sample - loss: 0.0106 - accuracy: 0.9966\n",
      "Epoch 6/10\n",
      "3269/3269 [==============================] - 43s 13ms/sample - loss: 0.0062 - accuracy: 0.9972\n",
      "Epoch 7/10\n",
      "3269/3269 [==============================] - 43s 13ms/sample - loss: 0.0114 - accuracy: 0.9966\n",
      "Epoch 8/10\n",
      "3269/3269 [==============================] - 43s 13ms/sample - loss: 0.0052 - accuracy: 0.9982\n",
      "Epoch 9/10\n",
      "3269/3269 [==============================] - 42s 13ms/sample - loss: 0.0054 - accuracy: 0.9982\n",
      "Epoch 10/10\n",
      "3269/3269 [==============================] - 44s 13ms/sample - loss: 0.0056 - accuracy: 0.9976\n",
      "evaluation model accuracy\n",
      "364/364 [==============================] - 2s 5ms/sample - loss: 7.8773e-04 - accuracy: 1.0000\n",
      "============accuracy= [0.0007877306325698865, 1.0]\n",
      "confusion matix======================\n",
      "[[ 91   0   0   0]\n",
      " [  0  88   0   0]\n",
      " [  0   0 102   0]\n",
      " [  0   0   0  83]]\n"
     ]
    }
   ],
   "source": [
    "train_df = pd.read_csv(\"/home/kishore/Data/train_languages.csv\")\n",
    "train_df.head()\n",
    "max_features=5000\n",
    "maxlen=400\n",
    "# cleaning data and transforming it to sequence of tokens\n",
    "\n",
    "clen_data,vocab_size=dataPreprocessing(train_df,max_features,maxlen)\n",
    "\n",
    "# label encoding\n",
    "\n",
    "encoded_label,encoder=label_encoding(train_df)\n",
    "\n",
    "# sampling data into spliting into train=80% , test=20%\n",
    "\n",
    "X_train, X_test, y_train, y_test=data_sampling(clen_data,encoded_label)\n",
    "\n",
    "# model building \n",
    "languageModel=model(vocab_size,maxlen)\n",
    "\n",
    "# training \n",
    "train_model=training(languageModel,X_train,y_train)\n",
    "print(\"evaluation model accuracy\")\n",
    "accuracy=model_evaluation(train_model,X_test,y_test)\n",
    "print(\"============accuracy=\",accuracy)\n",
    "confusion_matrix_test(train_model,X_test,y_test)"
   ]
  },
  {
   "cell_type": "markdown",
   "metadata": {},
   "source": [
    "#### Custom data prediction "
   ]
  },
  {
   "cell_type": "code",
   "execution_count": 5,
   "metadata": {},
   "outputs": [
    {
     "name": "stdout",
     "output_type": "stream",
     "text": [
      "english [0]\n",
      "french [1]\n",
      "italian [2]\n",
      "spanish [3]\n"
     ]
    }
   ],
   "source": [
    "#these are the codes for each language in order to evaluate properly\n",
    "print('english', encoder.transform(['english']))\n",
    "print('french', encoder.transform(['french']))\n",
    "print('italian', encoder.transform(['italian']))\n",
    "print('spanish', encoder.transform(['spanish']))"
   ]
  },
  {
   "cell_type": "code",
   "execution_count": 6,
   "metadata": {},
   "outputs": [],
   "source": [
    "new_text = [\"tensorflow is a great tool you can find a lot of tutorials from packt\"]\n",
    "#new_text = [\"tensorflow est un excellent outil vous pouvez trouver beaucoup de tutoriels de packt\"]\n",
    "#new_text = [\"tensorflow è un ottimo strumento puoi trovare molti tutorial di packt\"]\n",
    "#new_text = [\"tensorflow es una gran herramienta puedes encontrar muchos tutoriales de packt\"]"
   ]
  },
  {
   "cell_type": "code",
   "execution_count": 7,
   "metadata": {},
   "outputs": [],
   "source": [
    "tok = tf.keras.preprocessing.text.Tokenizer(num_words=max_features)\n",
    "test_text = tok.texts_to_sequences(new_text) #this is how we create sequences\n",
    "test_text = tf.keras.preprocessing.sequence.pad_sequences(test_text, maxlen=maxlen)"
   ]
  },
  {
   "cell_type": "code",
   "execution_count": 8,
   "metadata": {},
   "outputs": [
    {
     "name": "stdout",
     "output_type": "stream",
     "text": [
      "0\n",
      "[[0.38839382 0.16683602 0.2180193  0.2267509 ]]\n"
     ]
    }
   ],
   "source": [
    "np.set_printoptions(suppress=True)\n",
    "predictions = train_model.predict(test_text)\n",
    "print(predictions.argmax())\n",
    "print(predictions) #spanish you can get confused with italian which makes sense since they are more similar languages"
   ]
  },
  {
   "cell_type": "code",
   "execution_count": null,
   "metadata": {},
   "outputs": [],
   "source": []
  }
 ],
 "metadata": {
  "kernelspec": {
   "display_name": "Python 3",
   "language": "python",
   "name": "python3"
  },
  "language_info": {
   "codemirror_mode": {
    "name": "ipython",
    "version": 3
   },
   "file_extension": ".py",
   "mimetype": "text/x-python",
   "name": "python",
   "nbconvert_exporter": "python",
   "pygments_lexer": "ipython3",
   "version": "3.7.6"
  }
 },
 "nbformat": 4,
 "nbformat_minor": 4
}
